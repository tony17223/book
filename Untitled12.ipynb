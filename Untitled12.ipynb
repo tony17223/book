{
  "nbformat": 4,
  "nbformat_minor": 0,
  "metadata": {
    "colab": {
      "name": "Untitled12.ipynb",
      "provenance": [],
      "collapsed_sections": [],
      "toc_visible": true,
      "authorship_tag": "ABX9TyOGeUbnVamIVr2+dHWXkezk",
      "include_colab_link": true
    },
    "kernelspec": {
      "name": "python3",
      "display_name": "Python 3"
    }
  },
  "cells": [
    {
      "cell_type": "markdown",
      "metadata": {
        "id": "view-in-github",
        "colab_type": "text"
      },
      "source": [
        "<a href=\"https://colab.research.google.com/github/tony17223/phl-book/blob/master/Untitled12.ipynb\" target=\"_parent\"><img src=\"https://colab.research.google.com/assets/colab-badge.svg\" alt=\"Open In Colab\"/></a>"
      ]
    },
    {
      "cell_type": "code",
      "metadata": {
        "id": "4mOF0FrhYiRY",
        "colab_type": "code",
        "outputId": "d28ac1ff-cd34-4fbd-9361-aed1b048b37e",
        "colab": {
          "base_uri": "https://localhost:8080/",
          "height": 34
        }
      },
      "source": [
        " import requests, os\n",
        "\"\"\"\n",
        "發送 Line Notify 訊息\n",
        "\"\"\"\n",
        "def lineNotify(token, msg, picURI):\n",
        "    url = \"https://notify-api.line.me/api/notify\"\n",
        "    headers = {\n",
        "        \"Authorization\": \"Bearer \" + token\n",
        "    }\n",
        "   \n",
        "    payload = {'message': msg}\n",
        "    files = {'imageFile': open(picURI, 'rb')}\n",
        "    r = requests.post(url, headers = headers, params = payload, files = files)\n",
        "    return r.status_code\n",
        " \n",
        " \n",
        "#token = os.environ[\"LINE_TEST_TOKEN\"]\n",
        "token=\"jlJtcViOsdcx78gBdDkLpAEfq9nKrSLOwde0wQUqvBg\"\n",
        "msg = \"Hello Python\"\n",
        "picURI = \"2954057.jpg\"\n",
        " \n",
        " \n",
        "lineNotify(token, msg, picURI)"
      ],
      "execution_count": 0,
      "outputs": [
        {
          "output_type": "execute_result",
          "data": {
            "text/plain": [
              "200"
            ]
          },
          "metadata": {
            "tags": []
          },
          "execution_count": 12
        }
      ]
    },
    {
      "cell_type": "code",
      "metadata": {
        "id": "OHjk2Mm-YmbB",
        "colab_type": "code",
        "outputId": "84412c23-87b4-4388-aa6c-06e21991e49a",
        "colab": {
          "base_uri": "https://localhost:8080/",
          "height": 34
        }
      },
      "source": [
        "picURI = \"4222.jpg\"\n",
        "lineNotify(token, msg, picURI)"
      ],
      "execution_count": 0,
      "outputs": [
        {
          "output_type": "execute_result",
          "data": {
            "text/plain": [
              "200"
            ]
          },
          "metadata": {
            "tags": []
          },
          "execution_count": 13
        }
      ]
    },
    {
      "cell_type": "code",
      "metadata": {
        "id": "InI0SkhKYrjH",
        "colab_type": "code",
        "outputId": "82a646fc-158b-4f92-c2a3-16acc4708a35",
        "colab": {
          "base_uri": "https://localhost:8080/",
          "height": 34
        }
      },
      "source": [
        "picURI = \"5141.jpg\"\n",
        "lineNotify(token, msg, picURI)"
      ],
      "execution_count": 0,
      "outputs": [
        {
          "output_type": "execute_result",
          "data": {
            "text/plain": [
              "400"
            ]
          },
          "metadata": {
            "tags": []
          },
          "execution_count": 14
        }
      ]
    },
    {
      "cell_type": "code",
      "metadata": {
        "id": "zethtgz7Zpth",
        "colab_type": "code",
        "colab": {}
      },
      "source": [
        "!pip install schedule"
      ],
      "execution_count": 0,
      "outputs": []
    },
    {
      "cell_type": "code",
      "metadata": {
        "id": "J87MTi8TZto_",
        "colab_type": "code",
        "colab": {}
      },
      "source": [
        "import schedule\n",
        "import time\n",
        "\n",
        "def job():\n",
        "    lineNotify(token, msg, picURI)\n",
        "\n",
        "schedule.every(10).seconds.do(job) #每10秒執行一次\n",
        "#schedule.every().hour.do(job) #每小時執行一次\n",
        "#schedule.every().day.at(\"9:30\").do(job) #每天9點30執行一次\n",
        "#schedule.every().monday.do(job) #每週一執行一次\n",
        "#schedule.every().wednesday.at(\"14:45\").do(job) #每週三14點45執行一次\n",
        "\n",
        "# 無窮迴圈\n",
        "while True: \n",
        "    schedule.run_pending()\n",
        "    time.sleep(1)"
      ],
      "execution_count": 0,
      "outputs": []
    },
    {
      "cell_type": "code",
      "metadata": {
        "id": "JTF0XkYeZxWv",
        "colab_type": "code",
        "colab": {}
      },
      "source": [
        "import schedule\n",
        "import time\n",
        "\n",
        "def job():\n",
        "    stock='2330'\n",
        "    # 要抓取的網址\n",
        "    url = 'https://tw.stock.yahoo.com/q/q?s=' + stock \n",
        "    #請求網站\n",
        "    list_req = requests.get(url)\n",
        "    #將整個網站的程式碼爬下來\n",
        "    soup = BeautifulSoup(list_req.content, \"html.parser\")\n",
        "    #找到b這個標籤\n",
        "    getstock= soup.find('b').text #只抓到第一個<b>\n",
        "    print(getstock)\n",
        "\n",
        "    getstock= soup.findAll('b')[1].text #抓到收盤價格\n",
        "    print(getstock)\n",
        "\n",
        "schedule.every(10).seconds.do(job) #每10秒執行一次\n",
        "#schedule.every().hour.do(job) #每小時執行一次\n",
        "#schedule.every().day.at(\"9:30\").do(job) #每天9點30執行一次\n",
        "#schedule.every().monday.do(job) #每週一執行一次\n",
        "#schedule.every().wednesday.at(\"14:45\").do(job) #每週三14點45執行一次\n",
        "\n",
        "# 無窮迴圈\n",
        "while True: \n",
        "    schedule.run_pending()\n",
        "    time.sleep(1)"
      ],
      "execution_count": 0,
      "outputs": []
    },
    {
      "cell_type": "code",
      "metadata": {
        "id": "fQfEYloxY0mP",
        "colab_type": "code",
        "outputId": "e5c7342d-dc17-455b-8615-ee34bda58d44",
        "colab": {
          "base_uri": "https://localhost:8080/",
          "height": 119
        }
      },
      "source": [
        "!git clone https://github.com/tony17223/picture1"
      ],
      "execution_count": 0,
      "outputs": [
        {
          "output_type": "stream",
          "text": [
            "Cloning into 'picture1'...\n",
            "remote: Enumerating objects: 16, done.\u001b[K\n",
            "remote: Counting objects:   6% (1/16)\u001b[K\rremote: Counting objects:  12% (2/16)\u001b[K\rremote: Counting objects:  18% (3/16)\u001b[K\rremote: Counting objects:  25% (4/16)\u001b[K\rremote: Counting objects:  31% (5/16)\u001b[K\rremote: Counting objects:  37% (6/16)\u001b[K\rremote: Counting objects:  43% (7/16)\u001b[K\rremote: Counting objects:  50% (8/16)\u001b[K\rremote: Counting objects:  56% (9/16)\u001b[K\rremote: Counting objects:  62% (10/16)\u001b[K\rremote: Counting objects:  68% (11/16)\u001b[K\rremote: Counting objects:  75% (12/16)\u001b[K\rremote: Counting objects:  81% (13/16)\u001b[K\rremote: Counting objects:  87% (14/16)\u001b[K\rremote: Counting objects:  93% (15/16)\u001b[K\rremote: Counting objects: 100% (16/16)\u001b[K\rremote: Counting objects: 100% (16/16), done.\u001b[K\n",
            "remote: Compressing objects:   7% (1/14)\u001b[K\rremote: Compressing objects:  14% (2/14)\u001b[K\rremote: Compressing objects:  21% (3/14)\u001b[K\rremote: Compressing objects:  28% (4/14)\u001b[K\rremote: Compressing objects:  35% (5/14)\u001b[K\rremote: Compressing objects:  42% (6/14)\u001b[K\rremote: Compressing objects:  50% (7/14)\u001b[K\rremote: Compressing objects:  57% (8/14)\u001b[K\rremote: Compressing objects:  64% (9/14)\u001b[K\rremote: Compressing objects:  71% (10/14)\u001b[K\rremote: Compressing objects:  78% (11/14)\u001b[K\rremote: Compressing objects:  85% (12/14)\u001b[K\rremote: Compressing objects:  92% (13/14)\u001b[K\rremote: Compressing objects: 100% (14/14)\u001b[K\rremote: Compressing objects: 100% (14/14), done.\u001b[K\n",
            "Unpacking objects:   6% (1/16)   \rUnpacking objects:  12% (2/16)   \rUnpacking objects:  18% (3/16)   \rUnpacking objects:  25% (4/16)   \rUnpacking objects:  31% (5/16)   \rUnpacking objects:  37% (6/16)   \rUnpacking objects:  43% (7/16)   \rUnpacking objects:  50% (8/16)   \rUnpacking objects:  56% (9/16)   \rUnpacking objects:  62% (10/16)   \rUnpacking objects:  68% (11/16)   \rUnpacking objects:  75% (12/16)   \rUnpacking objects:  81% (13/16)   \rremote: Total 16 (delta 2), reused 0 (delta 0), pack-reused 0\u001b[K\n",
            "Unpacking objects:  87% (14/16)   \rUnpacking objects:  93% (15/16)   \rUnpacking objects: 100% (16/16)   \rUnpacking objects: 100% (16/16), done.\n"
          ],
          "name": "stdout"
        }
      ]
    },
    {
      "cell_type": "code",
      "metadata": {
        "id": "Cb_hbk9fZbNg",
        "colab_type": "code",
        "outputId": "5130d668-b0d7-43e9-e818-f0b1aac07393",
        "colab": {
          "base_uri": "https://localhost:8080/",
          "height": 204
        }
      },
      "source": [
        "!wget https://github.com/tony17223/picture1/blob/master/5141.jpg"
      ],
      "execution_count": 0,
      "outputs": [
        {
          "output_type": "stream",
          "text": [
            "--2020-03-16 03:32:00--  https://github.com/tony17223/picture1/blob/master/5141.jpg\n",
            "Resolving github.com (github.com)... 140.82.113.4\n",
            "Connecting to github.com (github.com)|140.82.113.4|:443... connected.\n",
            "HTTP request sent, awaiting response... 200 OK\n",
            "Length: unspecified [text/html]\n",
            "Saving to: ‘5141.jpg’\n",
            "\n",
            "\r5141.jpg                [<=>                 ]       0  --.-KB/s               \r5141.jpg                [ <=>                ]  62.18K  --.-KB/s    in 0.05s   \n",
            "\n",
            "2020-03-16 03:32:00 (1.17 MB/s) - ‘5141.jpg’ saved [63677]\n",
            "\n"
          ],
          "name": "stdout"
        }
      ]
    }
  ]
}