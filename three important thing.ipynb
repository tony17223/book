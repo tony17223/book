{
  "nbformat": 4,
  "nbformat_minor": 0,
  "metadata": {
    "colab": {
      "name": "“Untitled1.ipynb”的副本",
      "provenance": [],
      "include_colab_link": true
    },
    "kernelspec": {
      "name": "python3",
      "display_name": "Python 3"
    }
  },
  "cells": [
    {
      "cell_type": "markdown",
      "metadata": {
        "id": "view-in-github",
        "colab_type": "text"
      },
      "source": [
        "<a href=\"https://colab.research.google.com/github/tony17223/phl-book/blob/master/three%20important%20thing.ipynb\" target=\"_parent\"><img src=\"https://colab.research.google.com/assets/colab-badge.svg\" alt=\"Open In Colab\"/></a>"
      ]
    },
    {
      "cell_type": "markdown",
      "metadata": {
        "colab_type": "text",
        "id": "5fCEDCU_qrC0"
      },
      "source": [
        "# <p><img alt=\"Colaboratory logo\" height=\"45px\" src=\"https://colab.research.google.com/img/colab_favicon.ico\" align=\"left\" hspace=\"10px\" vspace=\"0px\"></p>\n",
        "\n",
        "<h1>程式設計三要事！</h1>"
      ]
    },
    {
      "cell_type": "markdown",
      "metadata": {
        "id": "M6HwwnuyAToi",
        "colab_type": "text"
      },
      "source": [
        "# 貼照片\n",
        "\n",
        "* 一般帳戶之google drive上存放的照片才可(G Suite不可)\n",
        "* jpg, png均可\n",
        "* open要改成uc\n",
        "* 到wikimedia找不用下載的線上照片\n",
        "* 用html的img\n",
        "\n",
        "![替代文字](https://drive.google.com/uc?id=1-kHwvO4aVDTOkBOSntunsYHQpYcbf940)"
      ]
    },
    {
      "cell_type": "code",
      "metadata": {
        "id": "rhUEZev3IYMz",
        "colab_type": "code",
        "outputId": "50f92b32-00f2-496c-e1e2-4ee5d6955d38",
        "colab": {
          "base_uri": "https://localhost:8080/",
          "height": 34
        }
      },
      "source": [
        "x='this' #字串\n",
        "type(x)"
      ],
      "execution_count": 0,
      "outputs": [
        {
          "output_type": "execute_result",
          "data": {
            "text/plain": [
              "str"
            ]
          },
          "metadata": {
            "tags": []
          },
          "execution_count": 6
        }
      ]
    },
    {
      "cell_type": "code",
      "metadata": {
        "id": "WRwUPPPrJlSx",
        "colab_type": "code",
        "outputId": "99569d6f-427f-44ad-a0ee-c413a04eade8",
        "colab": {
          "base_uri": "https://localhost:8080/",
          "height": 34
        }
      },
      "source": [
        "x=1 #整數\n",
        "type(x)"
      ],
      "execution_count": 0,
      "outputs": [
        {
          "output_type": "execute_result",
          "data": {
            "text/plain": [
              "int"
            ]
          },
          "metadata": {
            "tags": []
          },
          "execution_count": 7
        }
      ]
    },
    {
      "cell_type": "code",
      "metadata": {
        "id": "FnFfZhTAJlaq",
        "colab_type": "code",
        "outputId": "b931ece2-f6cf-400f-b136-96171ab8da11",
        "colab": {
          "base_uri": "https://localhost:8080/",
          "height": 34
        }
      },
      "source": [
        "x=1.1 #小數\n",
        "type(x)"
      ],
      "execution_count": 0,
      "outputs": [
        {
          "output_type": "execute_result",
          "data": {
            "text/plain": [
              "float"
            ]
          },
          "metadata": {
            "tags": []
          },
          "execution_count": 8
        }
      ]
    },
    {
      "cell_type": "code",
      "metadata": {
        "id": "MXnx6dsEJ3i5",
        "colab_type": "code",
        "outputId": "64a9bb1b-dee8-461a-aa64-1f663c749d41",
        "colab": {
          "base_uri": "https://localhost:8080/",
          "height": 34
        }
      },
      "source": [
        "x=(1,2,3) #tuple\n",
        "type(x)"
      ],
      "execution_count": 0,
      "outputs": [
        {
          "output_type": "execute_result",
          "data": {
            "text/plain": [
              "tuple"
            ]
          },
          "metadata": {
            "tags": []
          },
          "execution_count": 10
        }
      ]
    },
    {
      "cell_type": "code",
      "metadata": {
        "id": "BmIub0HVJljB",
        "colab_type": "code",
        "outputId": "559632dc-cff5-4b24-fb88-d0fcaac027ed",
        "colab": {
          "base_uri": "https://localhost:8080/",
          "height": 34
        }
      },
      "source": [
        "x=[1,2,3] #list\n",
        "type(x)"
      ],
      "execution_count": 0,
      "outputs": [
        {
          "output_type": "execute_result",
          "data": {
            "text/plain": [
              "list"
            ]
          },
          "metadata": {
            "tags": []
          },
          "execution_count": 12
        }
      ]
    }
  ]
}