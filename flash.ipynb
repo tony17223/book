{
  "nbformat": 4,
  "nbformat_minor": 0,
  "metadata": {
    "colab": {
      "name": "Untitled3.ipynb",
      "provenance": [],
      "include_colab_link": true
    },
    "kernelspec": {
      "name": "python3",
      "display_name": "Python 3"
    }
  },
  "cells": [
    {
      "cell_type": "markdown",
      "metadata": {
        "id": "view-in-github",
        "colab_type": "text"
      },
      "source": [
        "<a href=\"https://colab.research.google.com/github/tony17223/phl-book/blob/master/flash.ipynb\" target=\"_parent\"><img src=\"https://colab.research.google.com/assets/colab-badge.svg\" alt=\"Open In Colab\"/></a>"
      ]
    },
    {
      "cell_type": "markdown",
      "metadata": {
        "id": "hUxF0YxTLoiI",
        "colab_type": "text"
      },
      "source": [
        "list_1 = [1, 2, 3]\n",
        "\n",
        "list_2 = [4, 5, 6]\n",
        "\n",
        "list_3 = list_1 + list_2\n",
        "\n",
        "list_4 = list_3 * 2\n",
        "\n",
        "print(list_4)\n",
        "\n",
        "執行程式碼的輸出值是？\n",
        "\n",
        " A. [[1, 2, 3], [4, 5, 6], [1, 2, 3], [4, 5, 6]]\n",
        " \n",
        " B. [4, 10, 18]\n",
        " \n",
        " C. [1, 2, 3, 4, 5, 6, 1, 2, 3, 4, 5, 6]\n",
        " \n",
        " D. [[1, 2, 3, 4, 5, 6], [1, 2, 3, 4, 5, 6]]"
      ]
    },
    {
      "cell_type": "code",
      "metadata": {
        "id": "vTNG6ToUMA_R",
        "colab_type": "code",
        "outputId": "39cf563d-2f96-4f40-c6d1-1adee50b2a87",
        "colab": {
          "base_uri": "https://localhost:8080/",
          "height": 34
        }
      },
      "source": [
        "list_1 = [1, 2, 3]\n",
        "\n",
        "list_2 = [4, 5, 6]\n",
        "\n",
        "list_3 = list_1 + list_2\n",
        "\n",
        "list_4 = list_3 * 2\n",
        "\n",
        "print(list_4)"
      ],
      "execution_count": 0,
      "outputs": [
        {
          "output_type": "stream",
          "text": [
            "[1, 2, 3, 4, 5, 6, 1, 2, 3, 4, 5, 6]\n"
          ],
          "name": "stdout"
        }
      ]
    }
  ]
}