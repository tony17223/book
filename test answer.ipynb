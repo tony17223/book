{
  "nbformat": 4,
  "nbformat_minor": 0,
  "metadata": {
    "colab": {
      "name": "Untitled4.ipynb",
      "provenance": [],
      "include_colab_link": true
    },
    "kernelspec": {
      "name": "python3",
      "display_name": "Python 3"
    }
  },
  "cells": [
    {
      "cell_type": "markdown",
      "metadata": {
        "id": "view-in-github",
        "colab_type": "text"
      },
      "source": [
        "<a href=\"https://colab.research.google.com/github/tony17223/phl-book/blob/master/test%20answer.ipynb\" target=\"_parent\"><img src=\"https://colab.research.google.com/assets/colab-badge.svg\" alt=\"Open In Colab\"/></a>"
      ]
    },
    {
      "cell_type": "code",
      "metadata": {
        "id": "B5YYLpfJUeEL",
        "colab_type": "code",
        "outputId": "f7e407aa-b221-4a52-d6bd-9f6a2e5691ec",
        "colab": {
          "base_uri": "https://localhost:8080/",
          "height": 34
        }
      },
      "source": [
        "list_1 = [1, 2, 3]\n",
        "list_2 = [4, 5, 6]\n",
        "list_3 = list_1 + list_2\n",
        "list_4 = list_3 * 2\n",
        "print(list_4)"
      ],
      "execution_count": 0,
      "outputs": [
        {
          "output_type": "stream",
          "text": [
            "[1, 2, 3, 4, 5, 6, 1, 2, 3, 4, 5, 6]\n"
          ],
          "name": "stdout"
        }
      ]
    },
    {
      "cell_type": "markdown",
      "metadata": {
        "id": "MbSicN0sSsD7",
        "colab_type": "text"
      },
      "source": [
        "alph = \"abcdefghijklmnopqrstuvwxyz\"\n",
        "\n",
        "以下各個程式片段的結果各是如何？\n",
        "\n",
        "(1) alph[3:15]\n",
        "\n",
        "(2) alph[3:15:3]\n",
        "\n",
        "(3) alph[15:3:-3]\n",
        "\n",
        "(4) alph[::-3]\n",
        "\n",
        "(5) alph[3:15:-1]"
      ]
    },
    {
      "cell_type": "code",
      "metadata": {
        "id": "wBALqPlZSxFK",
        "colab_type": "code",
        "outputId": "142e6366-988a-437d-b7ba-8fe78ed5f445",
        "colab": {
          "base_uri": "https://localhost:8080/",
          "height": 34
        }
      },
      "source": [
        "alph = \"abcdefghijklmnopqrstuvwxyz\"\n",
        "alph[3:15]"
      ],
      "execution_count": 0,
      "outputs": [
        {
          "output_type": "execute_result",
          "data": {
            "text/plain": [
              "'defghijklmno'"
            ]
          },
          "metadata": {
            "tags": []
          },
          "execution_count": 5
        }
      ]
    },
    {
      "cell_type": "code",
      "metadata": {
        "id": "BgYOLFBxTEMD",
        "colab_type": "code",
        "outputId": "49068a9b-8295-4c3b-fb1b-1c35d7ce69de",
        "colab": {
          "base_uri": "https://localhost:8080/",
          "height": 34
        }
      },
      "source": [
        "alph = \"abcdefghijklmnopqrstuvwxyz\"\n",
        "alph[3:15:3]"
      ],
      "execution_count": 0,
      "outputs": [
        {
          "output_type": "execute_result",
          "data": {
            "text/plain": [
              "'dgjm'"
            ]
          },
          "metadata": {
            "tags": []
          },
          "execution_count": 9
        }
      ]
    },
    {
      "cell_type": "code",
      "metadata": {
        "id": "zpQjp7sSTIAC",
        "colab_type": "code",
        "outputId": "b7542306-0bcf-48c1-dc8c-738dc8daaaf1",
        "colab": {
          "base_uri": "https://localhost:8080/",
          "height": 34
        }
      },
      "source": [
        "alph = \"abcdefghijklmnopqrstuvwxyz\"\n",
        "alph[15:3:-3]"
      ],
      "execution_count": 0,
      "outputs": [
        {
          "output_type": "execute_result",
          "data": {
            "text/plain": [
              "'pmjg'"
            ]
          },
          "metadata": {
            "tags": []
          },
          "execution_count": 8
        }
      ]
    },
    {
      "cell_type": "code",
      "metadata": {
        "id": "vOEUK316TIGi",
        "colab_type": "code",
        "outputId": "c4df7037-bac7-4c13-ef40-08fd2e3f9512",
        "colab": {
          "base_uri": "https://localhost:8080/",
          "height": 34
        }
      },
      "source": [
        "alph = \"abcdefghijklmnopqrstuvwxyz\"\n",
        "alph[::-3]"
      ],
      "execution_count": 0,
      "outputs": [
        {
          "output_type": "execute_result",
          "data": {
            "text/plain": [
              "'zwtqnkheb'"
            ]
          },
          "metadata": {
            "tags": []
          },
          "execution_count": 6
        }
      ]
    },
    {
      "cell_type": "code",
      "metadata": {
        "id": "HXqVYmrGTINa",
        "colab_type": "code",
        "outputId": "08d9327f-b49d-4879-b6a0-92441c5cb943",
        "colab": {
          "base_uri": "https://localhost:8080/",
          "height": 34
        }
      },
      "source": [
        "alph = \"abcdefghijklmnopqrstuvwxyz\"\n",
        "alph[3:15:-1]"
      ],
      "execution_count": 0,
      "outputs": [
        {
          "output_type": "execute_result",
          "data": {
            "text/plain": [
              "''"
            ]
          },
          "metadata": {
            "tags": []
          },
          "execution_count": 7
        }
      ]
    }
  ]
}