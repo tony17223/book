{
  "nbformat": 4,
  "nbformat_minor": 0,
  "metadata": {
    "colab": {
      "name": "Untitled9.ipynb",
      "provenance": [],
      "include_colab_link": true
    },
    "kernelspec": {
      "name": "python3",
      "display_name": "Python 3"
    }
  },
  "cells": [
    {
      "cell_type": "markdown",
      "metadata": {
        "id": "view-in-github",
        "colab_type": "text"
      },
      "source": [
        "<a href=\"https://colab.research.google.com/github/tony17223/phl-book/blob/master/need.ipynb\" target=\"_parent\"><img src=\"https://colab.research.google.com/assets/colab-badge.svg\" alt=\"Open In Colab\"/></a>"
      ]
    },
    {
      "cell_type": "markdown",
      "metadata": {
        "id": "IYjYHcA8Yonw",
        "colab_type": "text"
      },
      "source": [
        "你需要該程式逐一查看數字清單，並在找到 4 時進行跳脫的動作。你要如何完成 這段程式碼？回答時，在回答區選擇適當的程式碼片段。\n",
        "\n",
        "nList = [0, 1, 2, 3, 4, 5, 6, 7, 8, 9] \n",
        "\n",
        "index = 0\n",
        "\n",
        " ___(1)___ (index < 10)：\n",
        "\n",
        "  print(nList[index])\n",
        "\n",
        "  if nList[index] == 4 :\n",
        "\n",
        "    ___(2)___\n",
        "\n",
        "  else：\n",
        "\n",
        "    ___(3)___"
      ]
    },
    {
      "cell_type": "code",
      "metadata": {
        "id": "NbSkStW9Ynar",
        "colab_type": "code",
        "outputId": "878c1790-bc9f-4d53-dcc4-43a381d741a5",
        "colab": {
          "base_uri": "https://localhost:8080/",
          "height": 102
        }
      },
      "source": [
        "nList = [0, 1, 2, 3, 4, 5, 6, 7, 8, 9] \n",
        "index = 0\n",
        "while(index < 10) :\n",
        "  print(nList[index])\n",
        "  if nList[index] == 4 : \n",
        "   break\n",
        "  else:\n",
        "   index +=1"
      ],
      "execution_count": 0,
      "outputs": [
        {
          "output_type": "stream",
          "text": [
            "0\n",
            "1\n",
            "2\n",
            "3\n",
            "4\n"
          ],
          "name": "stdout"
        }
      ]
    }
  ]
}