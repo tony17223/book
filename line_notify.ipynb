{
  "nbformat": 4,
  "nbformat_minor": 0,
  "metadata": {
    "colab": {
      "name": "line notify.ipynb",
      "provenance": [],
      "toc_visible": true,
      "authorship_tag": "ABX9TyPza5645a6qmxg0htaabpmg",
      "include_colab_link": true
    },
    "kernelspec": {
      "name": "python3",
      "display_name": "Python 3"
    }
  },
  "cells": [
    {
      "cell_type": "markdown",
      "metadata": {
        "id": "view-in-github",
        "colab_type": "text"
      },
      "source": [
        "<a href=\"https://colab.research.google.com/github/tony17223/phl-book/blob/master/line_notify.ipynb\" target=\"_parent\"><img src=\"https://colab.research.google.com/assets/colab-badge.svg\" alt=\"Open In Colab\"/></a>"
      ]
    },
    {
      "cell_type": "code",
      "metadata": {
        "id": "5Cr1V8YvNeJj",
        "colab_type": "code",
        "outputId": "5d8d3306-980e-49a5-8a30-0be4b209aea9",
        "colab": {
          "base_uri": "https://localhost:8080/",
          "height": 170
        }
      },
      "source": [
        "!pip install lineTool"
      ],
      "execution_count": 0,
      "outputs": [
        {
          "output_type": "stream",
          "text": [
            "Collecting lineTool\n",
            "  Downloading https://files.pythonhosted.org/packages/7a/29/7e96eef82de56d045e0016bbd7b7a41f597444ee0c7a38b0a5cdc6034a16/lineTool-1.0.3.tar.gz\n",
            "Building wheels for collected packages: lineTool\n",
            "  Building wheel for lineTool (setup.py) ... \u001b[?25l\u001b[?25hdone\n",
            "  Created wheel for lineTool: filename=lineTool-1.0.3-cp36-none-any.whl size=1465 sha256=bde4ef19929a7da6ab0180b8997597290dc110cead8a05ce5c06a80f955c3042\n",
            "  Stored in directory: /root/.cache/pip/wheels/65/ea/38/262d4b0f2edb028985f5a8b3914efd33119311e166f1e490f4\n",
            "Successfully built lineTool\n",
            "Installing collected packages: lineTool\n",
            "Successfully installed lineTool-1.0.3\n"
          ],
          "name": "stdout"
        }
      ]
    },
    {
      "cell_type": "code",
      "metadata": {
        "id": "70s9JVFTNxgq",
        "colab_type": "code",
        "colab": {}
      },
      "source": [
        "import lineTool\n",
        "\n",
        "token=\"L3YEinakzxGcrcyAw4wOAGGp31ZcHGEgQtr919Nv10K\"\n",
        "\n",
        "def linePush(msg):\n",
        "    lineTool.lineNotify(token, msg)"
      ],
      "execution_count": 0,
      "outputs": []
    },
    {
      "cell_type": "code",
      "metadata": {
        "id": "q8TA0f7MOVxB",
        "colab_type": "code",
        "colab": {}
      },
      "source": [
        "linePush(445   413)"
      ],
      "execution_count": 0,
      "outputs": []
    },
    {
      "cell_type": "code",
      "metadata": {
        "id": "FQxkIvsqVtba",
        "colab_type": "code",
        "outputId": "a38dbe95-8f4a-43de-c096-c0c3aa04ddbe",
        "colab": {
          "base_uri": "https://localhost:8080/",
          "height": 34
        }
      },
      "source": [
        "import requests, os\n",
        " \n",
        "\"\"\"\n",
        "發送 Line Notify 訊息\n",
        "\"\"\"\n",
        "def lineNotify(token, msg, picURI):\n",
        "    url = \"https://notify-api.line.me/api/notify\"\n",
        "    headers = {\n",
        "        \"Authorization\": \"Bearer \" + token\n",
        "    }\n",
        "   \n",
        "    payload = {'message': msg}\n",
        "    files = {'imageFile': open(picURI, 'rb')}\n",
        "    r = requests.post(url, headers = headers, params = payload, files = files)\n",
        "    return r.status_code\n",
        " \n",
        " \n",
        "#token = os.environ[\"LINE_TEST_TOKEN\"]\n",
        "token=\"L3YEinakzxGcrcyAw4wOAGGp31ZcHGEgQtr919Nv10K\"\n",
        "msg = \"Hello Python\"\n",
        "picURI = \"DSC_1284.JPG\"\n",
        " \n",
        " \n",
        "lineNotify(token, msg, picURI)"
      ],
      "execution_count": 0,
      "outputs": [
        {
          "output_type": "execute_result",
          "data": {
            "text/plain": [
              "200"
            ]
          },
          "metadata": {
            "tags": []
          },
          "execution_count": 3
        }
      ]
    },
    {
      "cell_type": "code",
      "metadata": {
        "id": "wO5vLElDZLUJ",
        "colab_type": "code",
        "colab": {}
      },
      "source": [
        "from google.colab import drive\n",
        "drive.mount('/content/drive')"
      ],
      "execution_count": 0,
      "outputs": []
    }
  ]
}